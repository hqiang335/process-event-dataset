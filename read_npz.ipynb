{
 "cells": [
  {
   "cell_type": "code",
   "execution_count": 31,
   "id": "a9863225",
   "metadata": {},
   "outputs": [],
   "source": [
    "import numpy as np\n",
    "import os\n",
    "\n",
    "def read_npz(filepath):\n",
    "    if os.path.exists(filepath):\n",
    "        try:\n",
    "            # 使用 numpy.load() 加载 .npz 归档文件\n",
    "            event_archive = np.load(filepath)\n",
    "\n",
    "            # 1. 查看这个归档文件里都存储了哪些数组\n",
    "            print(f\"✅ 归档文件 '{filepath}' 加载成功。\")\n",
    "            print(f\"   文件中包含的数组名: {event_archive.files}\")\n",
    "\n",
    "            # 2. 访问我们关心的 'data' 数组\n",
    "            if 'data' in event_archive:\n",
    "                data_array = event_archive['data']\n",
    "\n",
    "                # 3. 打印这个数组的关键属性\n",
    "                print(\"\\n--- 'data' 数组的详细信息 ---\")\n",
    "                print(f\"形状 (Shape): {data_array.shape}  (格式为 '通道, 高度, 宽度')\")\n",
    "                print(f\"数据类型 (Data Type): {data_array.dtype}\")\n",
    "\n",
    "                # 4. 显示数组的一小部分，直观感受里面的数值\n",
    "                print(\"\\n--- 数值抽样 (左上角 [:, :5, :5] 区域) ---\")\n",
    "                print(data_array[:, :5, :5])\n",
    "                \n",
    "            else:\n",
    "                print(\"\\n⚠️ 警告: 文件中没有找到名为 'data' 的数组。\")\n",
    "\n",
    "        except Exception as e:\n",
    "            print(f\"\\n❌ 读取文件时发生错误: {e}\")\n",
    "    else:\n",
    "        print(f\"❌ 错误: 在路径 '{filepath}' 未找到文件，请检查路径是否正确。\")"
   ]
  },
  {
   "cell_type": "code",
   "execution_count": 2,
   "id": "380e4018",
   "metadata": {},
   "outputs": [],
   "source": [
    "filepath1 = 'GoPro_event.npz'\n",
    "filepath2 = 'HQEVFI_event.npz'"
   ]
  },
  {
   "cell_type": "code",
   "execution_count": 3,
   "id": "a473b466",
   "metadata": {},
   "outputs": [
    {
     "name": "stdout",
     "output_type": "stream",
     "text": [
      "✅ 归档文件 'GoPro_event.npz' 加载成功。\n",
      "   文件中包含的数组名: ['x', 'y', 't', 'p']\n",
      "\n",
      "⚠️ 警告: 文件中没有找到名为 'data' 的数组。\n"
     ]
    }
   ],
   "source": [
    "read_npz(filepath1)"
   ]
  },
  {
   "cell_type": "code",
   "execution_count": 4,
   "id": "c9323396",
   "metadata": {},
   "outputs": [
    {
     "name": "stdout",
     "output_type": "stream",
     "text": [
      "✅ 归档文件 'HQEVFI_event.npz' 加载成功。\n",
      "   文件中包含的数组名: ['sync_rgb', 'x', 'y', 'p', 't', 'start_t', 'end_t', 'sync_rgb_shape', 'sync_evs_shape']\n",
      "\n",
      "⚠️ 警告: 文件中没有找到名为 'data' 的数组。\n"
     ]
    }
   ],
   "source": [
    "read_npz(filepath2)"
   ]
  },
  {
   "cell_type": "code",
   "execution_count": 5,
   "id": "2af03a96",
   "metadata": {},
   "outputs": [
    {
     "name": "stdout",
     "output_type": "stream",
     "text": [
      "(755721,)\n",
      "[  73206   73235   73441 ... 4166513 4166513 4166564]\n",
      "104\n"
     ]
    }
   ],
   "source": [
    "event1 = np.load(filepath1)\n",
    "print(event1['x'].shape)\n",
    "#print(event1['y'].shape)\n",
    "# print(event1['p'].shape)\n",
    "print(event1['t'])\n",
    "#print(event1['p'][:100])\n",
    "\n",
    "i=0\n",
    "while event1['t'][i] < event1['t'][0]+8000:\n",
    "    i+=1\n",
    "\n",
    "print(i)"
   ]
  },
  {
   "cell_type": "code",
   "execution_count": 6,
   "id": "377098d7",
   "metadata": {},
   "outputs": [
    {
     "name": "stdout",
     "output_type": "stream",
     "text": [
      "(618, 773, 3)\n",
      "(6259,)\n",
      "[718174. 718174. 718175. ... 725210. 725215. 725215.]\n",
      "718174.0\n",
      "725215.0\n",
      "[618 773   3]\n",
      "[  1 618 773]\n"
     ]
    }
   ],
   "source": [
    "event2 = np.load(filepath2)\n",
    "print(event2['sync_rgb'].shape)\n",
    "print(event2['x'].shape)\n",
    "print(event2['t'])\n",
    "print(event2['start_t'])\n",
    "print(event2['end_t'])\n",
    "print(event2['sync_rgb_shape'])\n",
    "print(event2['sync_evs_shape'])\n",
    "\n"
   ]
  },
  {
   "cell_type": "code",
   "execution_count": 7,
   "id": "acb53b79",
   "metadata": {},
   "outputs": [
    {
     "name": "stdout",
     "output_type": "stream",
     "text": [
      "(755721,)\n",
      "[  73206   73235   73441 ... 4166513 4166513 4166564]\n",
      "[ True  True  True ... False False False]\n",
      "[   8   11   13   12   11   12   12   13 1131 1183 1183 1183   10    9\n",
      "   14    3   15   14   13   12    2    1 1183 1183    0   10   14 1183\n",
      "   12    9 1182 1190 1145 1259 1182 1258 1131    6 1261    8 1262 1181\n",
      " 1257 1263 1182   10 1147 1260  263  266  263  129  263  263   13 1195\n",
      " 1256 1130 1254 1148  266  263   12 1198 1198  263    5 1180 1234  260\n",
      " 1018 1140  127  364 1255  356  357  358  363  292  263  129  263  354\n",
      "  355  359  360  361  362 1196  353   49  290  412 1147 1163  352  128\n",
      "  291 1254  287  351 1265   26]\n"
     ]
    }
   ],
   "source": [
    "event1 = np.load(filepath1)\n",
    "print(event1['x'].shape)\n",
    "#print(event1['y'].shape)\n",
    "# print(event1['p'].shape)\n",
    "print(event1['t'])\n",
    "#print(event1['p'][:100])\n",
    "\n",
    "time_mask = (event1['t'] >= event1['t'][0]) & (event1['t'] < event1['t'][0]+8000)\n",
    "print(time_mask)\n",
    "\n",
    "print(event1['x'][time_mask])"
   ]
  },
  {
   "cell_type": "code",
   "execution_count": 8,
   "id": "46d549ad",
   "metadata": {},
   "outputs": [
    {
     "name": "stdout",
     "output_type": "stream",
     "text": [
      "torch.Size([3, 720, 1280])\n"
     ]
    }
   ],
   "source": [
    "from PIL import Image\n",
    "import numpy as np\n",
    "from torchvision.transforms import ToTensor\n",
    "\n",
    "totensor = ToTensor()\n",
    "\n",
    "def imreader(impath):\n",
    "    im = totensor(Image.open(impath))\n",
    "    return im\n",
    "\n",
    "impath = 'frame_000323.png'\n",
    "im = imreader(impath)\n",
    "print(im.shape)"
   ]
  },
  {
   "cell_type": "code",
   "execution_count": 9,
   "id": "d399da22",
   "metadata": {},
   "outputs": [
    {
     "name": "stdout",
     "output_type": "stream",
     "text": [
      "720 1280\n"
     ]
    }
   ],
   "source": [
    "event1 = np.load('GoPro_event.npz')\n",
    "x, y, t, p = np.float32(event1['x']), np.float32(event1['y']), np.float32(event1['t']), np.float32(event1['p'])\n",
    "\n",
    "h, w = im.shape[1:]\n",
    "print(h, w)\n"
   ]
  },
  {
   "cell_type": "code",
   "execution_count": 13,
   "id": "ff5bd311",
   "metadata": {},
   "outputs": [],
   "source": [
    "import numpy as np\n",
    "def sample_events_to_grid(voxel_channels, h, w, x, y, t, p):\n",
    "    voxel = np.zeros((voxel_channels, h, w), dtype=np.float32)\n",
    "    # if len(t) == 0:\n",
    "    #     return voxel\n",
    "    t_start = t[0]\n",
    "    t_end = t[-1]\n",
    "    t_step = (t_end - t_start + 1) / voxel_channels\n",
    "    for d in range(len(x)):\n",
    "        d_x, d_y, d_t, d_p = x[d], y[d], t[d], p[d]\n",
    "        d_x_low, d_y_low = int(d_x), int(d_y)\n",
    "        d_t = d_t - t_start\n",
    "\n",
    "        x_weight = d_x - d_x_low\n",
    "        y_weight = d_y - d_y_low\n",
    "        ind = int(d_t // t_step)\n",
    "        # pv = d_p * 2 - 1\n",
    "        pv = d_p\n",
    "        if d_y_low < h and d_x_low < w:\n",
    "            voxel[ind, d_y_low, d_x_low] += (1 - x_weight) * (1 - y_weight) * pv\n",
    "        if d_y_low + 1 < h and d_x_low < w:\n",
    "            voxel[ind, d_y_low + 1, d_x_low] += (1 - x_weight) * y_weight * pv\n",
    "        if d_x_low + 1 < w and d_y_low < h:\n",
    "            voxel[ind, d_y_low, d_x_low + 1] += (1 - y_weight) * x_weight * pv\n",
    "        if d_y_low + 1 < h and d_x_low + 1 < w:\n",
    "            voxel[ind, d_y_low + 1, d_x_low + 1] += x_weight * y_weight * pv\n",
    "    return voxel"
   ]
  },
  {
   "cell_type": "code",
   "execution_count": 14,
   "id": "64726a11",
   "metadata": {},
   "outputs": [
    {
     "name": "stdout",
     "output_type": "stream",
     "text": [
      "输出类型: <class 'numpy.ndarray'>\n",
      "输出形状: (128, 720, 1280)\n",
      "输出数据类型: float32\n",
      "输出示例 (前几个值):\n",
      "(720, 1280)\n",
      "(921600,)\n",
      "[0. 0. 0. ... 0. 0. 0.]\n",
      "非零元素：\n",
      "(921600,)\n",
      "非零元素： (2044,)\n",
      "非0和非1的元素： (973,)\n",
      "非0和非-1的元素： (1071,)\n"
     ]
    }
   ],
   "source": [
    "voxel = sample_events_to_grid(128, h, w, x, y, t, p)\n",
    "print(\"输出类型:\", type(voxel))\n",
    "print(\"输出形状:\", voxel.shape)\n",
    "print(\"输出数据类型:\", voxel.dtype)\n",
    "print(\"输出示例 (前几个值):\")\n",
    "piece = voxel[0,:,:]\n",
    "print(piece.shape)\n",
    "print(piece.flatten().shape)\n",
    "print(piece.flatten())\n",
    "print(\"非零元素：\")\n",
    "# 这行代码的意思是：打印piece数组中所有非零元素的形状（即有多少个非零元素）。\n",
    "print(piece.flatten().shape)\n",
    "print(\"非零元素：\",piece.flatten()[piece.flatten() != 0].shape)\n",
    "print(\"非0和非1的元素：\",piece.flatten()[(piece.flatten() != 0) & (piece.flatten() != 1)].shape)\n",
    "print(\"非0和非-1的元素：\",piece.flatten()[(piece.flatten() != 0) & (piece.flatten() != -1)].shape)"
   ]
  },
  {
   "cell_type": "code",
   "execution_count": 15,
   "id": "b1e3d937",
   "metadata": {},
   "outputs": [],
   "source": [
    "def events_reader(self, events_path, h, w, interp_ratio):\n",
    "        evs_data = [np.load(ep) for ep in events_path]\n",
    "        evs_voxels = []\n",
    "        for ed in evs_data:\n",
    "            evs_voxels.append(\n",
    "                sample_events_to_grid(self.echannel//interp_ratio, h, w, np.float32(ed['x']), np.float32(ed['y']), np.float32(ed['t']),\n",
    "                                      np.float32(ed['p'])))\n",
    "        return torch.tensor(np.concatenate(evs_voxels, 0))"
   ]
  },
  {
   "cell_type": "code",
   "execution_count": 17,
   "id": "60bd2fba",
   "metadata": {},
   "outputs": [],
   "source": [
    "import torch\n",
    "def ereader(self, events_path, h, w, interp_ratio):\n",
    "        total_event_channels = self.events_channel #事件通道数128\n",
    "        num_event_files = len(events_path) #事件npz文件数量\n",
    "        if num_event_files == 0:\n",
    "            return torch.zeros(total_event_channels, h, w)\n",
    "        channels_per_event = total_event_channels // num_event_files\n",
    "        \n",
    "        evs_data = [np.load(ep) for ep in events_path]\n",
    "        evs_voxels = []\n",
    "        for ed in evs_data:\n",
    "            x, y, t, p = np.float32(ed['x']), np.float32(ed['y']), np.float32(ed['t']), np.float32(ed['p'])\n",
    "            if len(t) > 0:\n",
    "                start_t = t[0]\n",
    "                # Set a fixed duration window of 8000 microseconds (8ms)\n",
    "                time_window = 8000 \n",
    "                end_t = start_t + time_window\n",
    "                \n",
    "                # Filter events to be within this fixed window\n",
    "                time_mask = (t >= start_t) & (t < end_t)\n",
    "                x, y, t, p = x[time_mask], y[time_mask], t[time_mask], p[time_mask]\n",
    "\n",
    "            voxel = sample_events_to_grid(channels_per_event, h, w, x, y, t, p)\n",
    "            # 下面这一行的作用是：将由 sample_events_to_grid 函数生成的 numpy 格式体素(voxel)数据转换为 PyTorch 的张量（Tensor），\n",
    "            # 并添加到 evs_voxels 列表中。这样后续可以将所有事件体素拼接成一个多通道的事件张量，便于神经网络处理。\n",
    "            evs_voxels.append(torch.from_numpy(voxel))\n",
    "            \n",
    "        output_tensor = torch.cat(evs_voxels, 0)\n",
    "\n",
    "        # Final check to ensure the channel dimension is exactly as expected.\n",
    "        # This handles cases where total_event_channels is not perfectly divisible by num_event_files.\n",
    "        current_channels = output_tensor.shape[0]\n",
    "        if current_channels != total_event_channels:\n",
    "            if current_channels > total_event_channels:\n",
    "                # Truncate if we have too many channels\n",
    "                output_tensor = output_tensor[:total_event_channels, :, :]\n",
    "            else:\n",
    "                # Pad with zeros if we have too few\n",
    "                padding_needed = total_event_channels - current_channels\n",
    "                padding = torch.zeros(padding_needed, h, w, device=output_tensor.device)\n",
    "                output_tensor = torch.cat([output_tensor, padding], dim=0)\n",
    "\n",
    "        return output_tensor"
   ]
  },
  {
   "cell_type": "code",
   "execution_count": 26,
   "id": "318397fe",
   "metadata": {},
   "outputs": [
    {
     "ename": "ValueError",
     "evalue": "cannot reshape array of size 249696 into shape (816,612)",
     "output_type": "error",
     "traceback": [
      "\u001b[1;31m---------------------------------------------------------------------------\u001b[0m",
      "\u001b[1;31mValueError\u001b[0m                                Traceback (most recent call last)",
      "Cell \u001b[1;32mIn[26], line 5\u001b[0m\n\u001b[0;32m      1\u001b[0m \u001b[38;5;28;01mimport\u001b[39;00m \u001b[38;5;21;01mnumpy\u001b[39;00m \u001b[38;5;28;01mas\u001b[39;00m \u001b[38;5;21;01mnp\u001b[39;00m\n\u001b[0;32m      3\u001b[0m raw_path \u001b[38;5;241m=\u001b[39m \u001b[38;5;124m'\u001b[39m\u001b[38;5;124m816_612_8_0000000000.raw\u001b[39m\u001b[38;5;124m'\u001b[39m\n\u001b[1;32m----> 5\u001b[0m im\u001b[38;5;241m=\u001b[39mnp\u001b[38;5;241m.\u001b[39mfromfile(raw_path, np\u001b[38;5;241m.\u001b[39muint16)\u001b[38;5;241m.\u001b[39mreshape(\u001b[38;5;241m816\u001b[39m, \u001b[38;5;241m612\u001b[39m)\n\u001b[0;32m      6\u001b[0m im\u001b[38;5;241m.\u001b[39mshape\n",
      "\u001b[1;31mValueError\u001b[0m: cannot reshape array of size 249696 into shape (816,612)"
     ]
    }
   ],
   "source": [
    "import numpy as np\n",
    "\n",
    "raw_path = '816_612_8_0000000000.raw'\n",
    "\n",
    "im=np.fromfile(raw_path, np.uint16).reshape(816, 612)\n",
    "im.shape"
   ]
  },
  {
   "cell_type": "code",
   "execution_count": 17,
   "id": "117bec27",
   "metadata": {},
   "outputs": [],
   "source": [
    "import pandas as pd\n",
    "import numpy as np\n",
    "from tqdm import tqdm\n",
    "import os\n",
    "\n",
    "def parse_aps_info(aps_info_path):\n",
    "    \"\"\"从APS日志文件中解析出所有图像帧的时间戳。\"\"\"\n",
    "    df = pd.read_csv(aps_info_path, comment='#')\n",
    "    # 返回一个包含所有时间戳的列表\n",
    "    return df['timestamp'].tolist()\n",
    "\n",
    "def parse_evs_info(evs_info_path):\n",
    "    \"\"\"从EVS日志文件中解析出每个evs_raw文件的元数据。\"\"\"\n",
    "    df = pd.read_csv(evs_info_path, comment='#')\n",
    "    # 返回一个字典列表，每个字典包含文件名和起止时间\n",
    "    return df['timestamp'].tolist()"
   ]
  },
  {
   "cell_type": "code",
   "execution_count": 19,
   "id": "ae9ae655",
   "metadata": {},
   "outputs": [
    {
     "name": "stdout",
     "output_type": "stream",
     "text": [
      "200\n",
      "7800\n"
     ]
    }
   ],
   "source": [
    "aps_info_path = 'quadbayer_10bit_3264_2448_20250703093040412_info.txt'\n",
    "aps_timestamp=parse_aps_info(aps_info_path)\n",
    "print(len(aps_timestamp))\n",
    "\n",
    "evs_info_path = 'normal_v2_816_612_20250703093040412_info.txt'\n",
    "evs_timestamp=parse_evs_info(evs_info_path)\n",
    "print(len(evs_timestamp))\n"
   ]
  },
  {
   "cell_type": "code",
   "execution_count": null,
   "id": "be299c39",
   "metadata": {},
   "outputs": [],
   "source": [
    "import numpy as np\n",
    "\n",
    "def parse_evs_raw(file_path):\n",
    "    \"\"\"\n",
    "    根据APX EVB Gen2手册，解析单个EVS .raw/.dat文件。\n",
    "    返回一个 (N, 4) 的Numpy数组，列分别为 (x, y, t, p)。\n",
    "    \"\"\"\n",
    "    # 初始化一个空列表，用于收集从各个数据包中解析出的事件数组\n",
    "    all_events = []\n",
    "    \n",
    "    # 'with open(...) as f:' 是一种安全的文件操作方式，能确保文件最终被正确关闭\n",
    "    # 'rb' 表示以“二进制读取”(read binary)模式打开文件，因为事件文件不是文本\n",
    "    with open(file_path, 'rb') as f:\n",
    "        \n",
    "        # --- 文件头处理 ---\n",
    "        # 代码作用: 将文件的读取指针从开头向后移动1024个字节。\n",
    "        # 设计依据: 手册第6页，“3.1 数据采集”章节中提到，\n",
    "        #           “.dat 文件都包含文件头”，且文件头大小为1024字节。\n",
    "        #           我们不关心文件头内容，所以直接跳过。\n",
    "        f.seek(1024)\n",
    "        \n",
    "        # --- 循环读取数据包 ---\n",
    "        # 代码作用: 启动一个无限循环，持续从文件中读取数据，直到文件末尾。\n",
    "        # 设计依据: 手册第6页指出，文件头之后是“N 个 EVS 数据包”的连续存储。\n",
    "        #           这个循环结构就是为了逐个处理这些数据包。\n",
    "        while True:\n",
    "            # --- 解析包头 ---\n",
    "            # 代码作用: 从当前指针位置读取8个字节。\n",
    "            # 设计依据: 手册第7页，“EVS 数据包头格式”表格显示，包头大小为64位，即8字节。\n",
    "            packet_header_bytes = f.read(8)\n",
    "            \n",
    "            # 代码作用: 如果读取不到任何字节，说明已经到达文件末尾，跳出循环。\n",
    "            if not packet_header_bytes:\n",
    "                break\n",
    "                \n",
    "            # 代码作用: 使用Numpy的frombuffer功能，将8字节的二进制数据块直接转换成一个64位无符号整数。\n",
    "            header_data = np.frombuffer(packet_header_bytes, dtype=np.uint64)[0]\n",
    "            \n",
    "            # 代码作用: 使用位运算“与”(&)和一个掩码(mask)，提取出低56位作为时间戳的高位。\n",
    "            #           0x00FFFFFFFFFFFFFF 是一个56位的全1掩码。\n",
    "            # 设计依据: 依据手册第7页的包头格式表，高56位是 timestamp。\n",
    "            timestamp_high = header_data & 0x00FFFFFFFFFFFFFF\n",
    "            \n",
    "            # 代码作用: 使用位运算“右移”(>>)，将64位整数向右移动56位，使得最高的8位移动到最低的位置，\n",
    "            #           然后再用掩码 0xFF (二进制的11111111) 提取出这8位数，即为事件数量。\n",
    "            # 设计依据: 依据手册第7页的包头格式表，紧跟时间戳之后的是8位的 event_num。\n",
    "            event_num = (header_data >> 56) & 0xFF\n",
    "            \n",
    "            if event_num == 0:\n",
    "                continue # 如果这个包没有事件，就处理下一个包\n",
    "            \n",
    "            # --- 解析事件数据 ---\n",
    "            # 代码作用: 根据包头中得到的事件数 event_num，读取 N * 4 字节的数据块。\n",
    "            # 设计依据: 手册第7页，“32bit 事件数据格式”说明每个事件占用32位，即4字节。\n",
    "            event_data_bytes = f.read(event_num * 4)\n",
    "            \n",
    "            # 代码作用: 将整个事件数据块一次性转换成一个Numpy数组，每个元素是32位无符号整数。\n",
    "            #           这比用循环逐个转换4字节要高效得多。\n",
    "            events_int32 = np.frombuffer(event_data_bytes, dtype=np.uint32)\n",
    "            \n",
    "            # --- 解码单个事件 (位运算) ---\n",
    "            # 这是最核心的解码步骤，完全复刻了手册第7页的“32bit 事件数据格式”表格。\n",
    "            # p (极性): 右移31位，取最低1位。\n",
    "            p = (events_int32 >> 31) & 0x01\n",
    "            # y (Y坐标): 右移20位，取11位 (掩码0x7FF = 二进制11个1)。\n",
    "            y = (events_int32 >> 20) & 0x7FF\n",
    "            # x (X坐标): 右移8位，取12位 (掩码0xFFF = 二进制12个1)。\n",
    "            x = (events_int32 >> 8)  & 0xFFF\n",
    "            # timestamp_low (时间戳低位): 不移位，直接取最低的8位 (掩码0xFF)。\n",
    "            timestamp_low = events_int32 & 0xFF\n",
    "            \n",
    "            # --- 合并与存储 ---\n",
    "            # 代码作用: 将从包头获得的时间戳高位与从每个事件中获得的低8位时间戳合并。\n",
    "            #           最简单的合并方式是直接相加，这通常是设计者意图的。\n",
    "            # 设计依据: 手册中分别定义了高位和低位时间戳，暗示了它们需要被组合以获得完整精度。\n",
    "            full_timestamp = timestamp_high + timestamp_low\n",
    "            \n",
    "            # 代码作用: 使用np.stack将解码出的x, y, t, p这四个数组按列堆叠，\n",
    "            #           形成一个 (event_num, 4) 形状的数组。\n",
    "            packet_events = np.stack([\n",
    "                x.astype(np.float32), \n",
    "                y.astype(np.float32), \n",
    "                full_timestamp.astype(np.float32), \n",
    "                p.astype(np.float32)\n",
    "            ], axis=1)\n",
    "            \n",
    "            # 代码作用: 将这个数据包解析出的事件数组，添加到总列表中。\n",
    "            all_events.append(packet_events)\n",
    "            \n",
    "    # --- 函数返回 ---\n",
    "    # 代码作用: 检查总列表是否为空，如果为空则返回一个空的(0, 4)数组。\n",
    "    if not all_events:\n",
    "        return np.empty((0, 4), dtype=np.float32)\n",
    "        \n",
    "    # 代码作用: 使用np.concatenate将列表中所有数据包的事件数组，沿行(axis=0)拼接起来，\n",
    "    #           形成一个包含该文件所有事件的、巨大的 (N, 4) 数组。\n",
    "    return np.concatenate(all_events, axis=0)"
   ]
  }
 ],
 "metadata": {
  "kernelspec": {
   "display_name": "base",
   "language": "python",
   "name": "python3"
  },
  "language_info": {
   "codemirror_mode": {
    "name": "ipython",
    "version": 3
   },
   "file_extension": ".py",
   "mimetype": "text/x-python",
   "name": "python",
   "nbconvert_exporter": "python",
   "pygments_lexer": "ipython3",
   "version": "3.12.3"
  }
 },
 "nbformat": 4,
 "nbformat_minor": 5
}
